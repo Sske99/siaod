{
 "cells": [
  {
   "cell_type": "raw",
   "id": "106b377c-cbff-40a5-9c3d-0b25533a7d9e",
   "metadata": {},
   "source": [
    "Задача 1. «Треугольник с максимальным периметром»\n",
    "\n",
    "Массив A состоит из целых положительных чисел - длин отрезков. Составьте из трех отрезков такой треугольник, чтобы его периметр был максимально возможным. Если невозможно составить треугольник с положительной площадью - функция возвращает 0.\n",
    "\n",
    "Пример 1.1: Ввод: [2,1,2] Вывод: 5\n",
    "\n",
    "Пример 1.2: Ввод: [1,2,1] Вывод: 0\n",
    "\n",
    "Пример 1.3: Ввод: [3,2,3,4] Вывод: 10\n",
    "\n",
    "Пример 1.4: Ввод: [3,6,2,3] Вывод: 8"
   ]
  },
  {
   "cell_type": "code",
   "execution_count": 2,
   "id": "b98515a4-1d9d-4ae1-85a6-3d680c1ce4bc",
   "metadata": {},
   "outputs": [],
   "source": [
    "def maxPerimeter(arr):\n",
    "\n",
    "    maxi = 0\n",
    "    n = len(arr)\n",
    "    arr.sort(reverse = True)\n",
    "\n",
    "    for i in range(0, n - 2):\n",
    "        if arr[i] < (arr[i + 1] + arr[i + 2]):\n",
    "            maxi = max(maxi, arr[i] + \n",
    "                       arr[i + 1] + arr[i + 2])\n",
    "            break\n",
    "\n",
    "    if(maxi == 0):\n",
    "        return 0\n",
    "    else:\n",
    "        return str(maxi)\n",
    "\n",
    "def Pr1(arr):\n",
    "    \n",
    "    a = maxPerimeter(arr)\n",
    "\n",
    "    print(a)"
   ]
  },
  {
   "cell_type": "code",
   "execution_count": 4,
   "id": "1e4e599d-64d2-48c9-aa72-efe44b2f328b",
   "metadata": {},
   "outputs": [
    {
     "name": "stdout",
     "output_type": "stream",
     "text": [
      "Zadacha 1\n",
      "5\n",
      "0\n",
      "10\n",
      "8\n",
      "30\n"
     ]
    }
   ],
   "source": [
    "def Program1():\n",
    "\n",
    "    arr = [2, 1, 2]\n",
    "    Pr1(arr)\n",
    "    \n",
    "    arr = [1, 2, 1]\n",
    "    Pr1(arr)\n",
    "    \n",
    "    arr = [3, 2, 3, 4]\n",
    "    Pr1(arr)\n",
    "    \n",
    "    arr = [3, 6, 2, 3]\n",
    "    Pr1(arr)\n",
    "    \n",
    "    arr = [7, 2, 9, 14, 5, 3, 1, 1, 2, 6]\n",
    "    Pr1(arr)\n",
    "    \n",
    "print(\"Zadacha 1\")\n",
    "Program1()"
   ]
  },
  {
   "cell_type": "raw",
   "id": "e28b0cd9-2087-41bf-93e4-13a8ffcc982e",
   "metadata": {},
   "source": [
    "Задача 2. «Максимальное число»\n",
    "\n",
    "Дан массив неотрицательных целых чисел nums. Расположите их в таком порядке, чтобы вместе они образовали максимально возможное число. Замечание: Результат может быть очень большим числом, поэтому представьте его как string, а не integer.\n",
    "\n",
    "Пример 2.1: Ввод: nums = [10,5] Вывод: ”510”\n",
    "\n",
    "Пример 2.2: Ввод: nums = [39,3,43,5,9] Вывод: ”9543393”\n",
    "\n",
    "Пример 2.3: Ввод: nums = [1] Вывод: ”1”\n",
    "\n",
    "Пример 2.4: Ввод: nums = [10] Вывод: ”10”"
   ]
  },
  {
   "cell_type": "code",
   "execution_count": 5,
   "id": "e6c3c0bb-46cb-449d-92a0-4c37b1dd6f0f",
   "metadata": {},
   "outputs": [],
   "source": [
    "def Sravnenie(a, b):\n",
    "\n",
    "    ab = str(a) + str(b)\n",
    "    ba = str(b) + str(a)\n",
    "\n",
    "    return ((int(ba) > int(ab)) - (int(ba) < int(ab)))\n",
    "\n",
    "      \n",
    "\n",
    "def myCompare(mycmp):\n",
    "\n",
    "    class K(object):\n",
    "\n",
    "        def __init__(self, obj, *args):\n",
    "\n",
    "            self.obj = obj\n",
    "\n",
    "        def __lt__(self, other):\n",
    "\n",
    "            return mycmp(self.obj, other.obj) < 0\n",
    "\n",
    "        def __gt__(self, other):\n",
    "\n",
    "            return mycmp(self.obj, other.obj) > 0\n",
    "\n",
    "        def __eq__(self, other):\n",
    "\n",
    "            return mycmp(self.obj, other.obj) == 0\n",
    "\n",
    "        def __le__(self, other):\n",
    "\n",
    "            return mycmp(self.obj, other.obj) <= 0\n",
    "\n",
    "        def __ge__(self, other):\n",
    "\n",
    "            return mycmp(self.obj, other.obj) >= 0\n",
    "\n",
    "        def __ne__(self, other):\n",
    "\n",
    "            return mycmp(self.obj, other.obj) != 0\n",
    "\n",
    "    return K\n",
    "\n",
    "\n",
    "\n",
    "def Pr2(a):\n",
    "\n",
    "    sorted_array = sorted(a, key=myCompare(Sravnenie))\n",
    "    number = \"\".join([str(i) for i in sorted_array])\n",
    "\n",
    "    print(number)"
   ]
  },
  {
   "cell_type": "code",
   "execution_count": 15,
   "id": "1f2148f5-20c7-4f14-a9c6-fa8c3875440c",
   "metadata": {},
   "outputs": [
    {
     "name": "stdout",
     "output_type": "stream",
     "text": [
      "Zadacha 2\n",
      "510\n",
      "9543393\n",
      "1\n",
      "10\n"
     ]
    }
   ],
   "source": [
    "def Program2():\n",
    "    \n",
    "    nums = [10,5]\n",
    "    Pr2(nums)\n",
    "    \n",
    "    nums = [39,3,43,5,9]\n",
    "    Pr2(nums)\n",
    "    \n",
    "    nums = [1]\n",
    "    Pr2(nums)\n",
    "    \n",
    "    nums = [10]\n",
    "    Pr2(nums)\n",
    "    \n",
    "print(\"Zadacha 2\")\n",
    "Program2()"
   ]
  },
  {
   "cell_type": "raw",
   "id": "62da693c-5eb8-47bc-8339-23b3453ca546",
   "metadata": {},
   "source": [
    "Задачи из файла \"Задачи на дом 27 февраля.docx\"\n",
    "Задача 2. Правильный подмногоугольник\n",
    "\n",
    "Задан правильный N-угольник. Требуется выбрать наименьшее количество его вершин, которые также образуют правильный многоугольник.\n",
    "\n",
    "Входные данные содержат одно целое число N (3 ≤ N ≤ 1012).\n",
    "\n",
    "Вывод\n",
    "\n",
    "Выведите одно число — наименьшее количество вершин заданного многоугольника, которые образуют правильный многоугольник."
   ]
  },
  {
   "cell_type": "code",
   "execution_count": 16,
   "id": "7bb0a4dc-cd6f-403b-96c9-5dd23aa24d21",
   "metadata": {},
   "outputs": [
    {
     "name": "stdout",
     "output_type": "stream",
     "text": [
      "Input N\n"
     ]
    },
    {
     "name": "stdin",
     "output_type": "stream",
     "text": [
      " 18\n"
     ]
    },
    {
     "name": "stdout",
     "output_type": "stream",
     "text": [
      "3\n"
     ]
    }
   ],
   "source": [
    "from math import *\n",
    "\n",
    "print(\"Input N\")\n",
    "\n",
    "N = int(input())\n",
    "t = 0\n",
    "\n",
    "if (N % 3) == 0:\n",
    "    print('3')\n",
    "elif (N % 2) == 1:\n",
    "    for i in range(2, floor(sqrt(N)) + 1, 1):\n",
    "        if (N % i) == 0:\n",
    "            print(i)\n",
    "            break\n",
    "elif ((N % 2) == 0) and ((N % 4) != 0):\n",
    "    for i in range(3, floor(sqrt(N)), 2):\n",
    "        if (N % i) == 0:\n",
    "            t = i\n",
    "            break\n",
    "    if t == 0:\n",
    "        print(N // 2)\n",
    "    else:\n",
    "        print(t)\n",
    "elif ((N % 4) == 0):\n",
    "    print('4')\n",
    "else:\n",
    "    for i in range(3, N + 1, 1):\n",
    "        if (N % i) == 0:\n",
    "            print(i)\n",
    "            break"
   ]
  }
 ],
 "metadata": {
  "kernelspec": {
   "display_name": "Python 3",
   "language": "python",
   "name": "python3"
  },
  "language_info": {
   "codemirror_mode": {
    "name": "ipython",
    "version": 3
   },
   "file_extension": ".py",
   "mimetype": "text/x-python",
   "name": "python",
   "nbconvert_exporter": "python",
   "pygments_lexer": "ipython3",
   "version": "3.9.2"
  }
 },
 "nbformat": 4,
 "nbformat_minor": 5
}
