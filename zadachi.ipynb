{
 "cells": [
  {
   "cell_type": "markdown",
   "id": "221dd253",
   "metadata": {},
   "source": [
    "# Контрольные задачи\n",
    "Задача 1. «Треугольник с максимальным периметром»\n",
    "\n",
    "Массив A состоит из целых положительных чисел - длин отрезков. Составьте из трех отрезков такой треугольник, чтобы его периметр был максимально возможным. Если невозможно составить треугольник с положительной площадью - функция возвращает 0.\n",
    "\n",
    "Пример 1.1: Ввод: [2,1,2] Вывод: 5\n",
    "\n",
    "Пример 1.2: Ввод: [1,2,1] Вывод: 0\n",
    "\n",
    "Пример 1.3: Ввод: [3,2,3,4] Вывод: 10\n",
    "\n",
    "Пример 1.4: Ввод: [3,6,2,3] Вывод: 8"
   ]
  },
  {
   "cell_type": "code",
   "execution_count": 3,
   "id": "b98515a4-1d9d-4ae1-85a6-3d680c1ce4bc",
   "metadata": {},
   "outputs": [],
   "source": [
    "def maxPerimeter(arr):\n",
    "\n",
    "    maxi = 0\n",
    "    n = len(arr)\n",
    "    arr.sort(reverse = True)\n",
    "\n",
    "    for i in range(0, n - 2):\n",
    "        if arr[i] < (arr[i + 1] + arr[i + 2]):\n",
    "            maxi = max(maxi, arr[i] + \n",
    "                       arr[i + 1] + arr[i + 2])\n",
    "            break\n",
    "\n",
    "    if(maxi == 0):\n",
    "        return 0\n",
    "    else:\n",
    "        return str(maxi)\n",
    "\n",
    "def Pr1(arr):\n",
    "    \n",
    "    a = maxPerimeter(arr)\n",
    "\n",
    "    print(a)"
   ]
  },
  {
   "cell_type": "code",
   "execution_count": 4,
   "id": "1e4e599d-64d2-48c9-aa72-efe44b2f328b",
   "metadata": {},
   "outputs": [
    {
     "name": "stdout",
     "output_type": "stream",
     "text": [
      "Zadacha 1\n",
      "5\n",
      "0\n",
      "10\n",
      "8\n",
      "30\n"
     ]
    }
   ],
   "source": [
    "def Program1():\n",
    "\n",
    "    arr = [2, 1, 2]\n",
    "    Pr1(arr)\n",
    "    \n",
    "    arr = [1, 2, 1]\n",
    "    Pr1(arr)\n",
    "    \n",
    "    arr = [3, 2, 3, 4]\n",
    "    Pr1(arr)\n",
    "    \n",
    "    arr = [3, 6, 2, 3]\n",
    "    Pr1(arr)\n",
    "    \n",
    "    arr = [7, 2, 9, 14, 5, 3, 1, 1, 2, 6]\n",
    "    Pr1(arr)\n",
    "    \n",
    "print(\"Zadacha 1\")\n",
    "Program1()"
   ]
  },
  {
   "cell_type": "markdown",
   "id": "d9d1cc31",
   "metadata": {},
   "source": [
    "# Задача 2. «Максимальное число»\n",
    "\n",
    "Дан массив неотрицательных целых чисел nums. Расположите их в таком порядке, чтобы вместе они образовали максимально возможное число. Замечание: Результат может быть очень большим числом, поэтому представьте его как string, а не integer.\n",
    "\n",
    "Пример 2.1: Ввод: nums = [10,5] Вывод: ”510”\n",
    "\n",
    "Пример 2.2: Ввод: nums = [39,3,43,5,9] Вывод: ”9543393”\n",
    "\n",
    "Пример 2.3: Ввод: nums = [1] Вывод: ”1”\n",
    "\n",
    "Пример 2.4: Ввод: nums = [10] Вывод: ”10”"
   ]
  },
  {
   "cell_type": "code",
   "execution_count": 5,
   "id": "e6c3c0bb-46cb-449d-92a0-4c37b1dd6f0f",
   "metadata": {},
   "outputs": [],
   "source": [
    "def Sravnenie(a, b):\n",
    "\n",
    "    ab = str(a) + str(b)\n",
    "    ba = str(b) + str(a)\n",
    "\n",
    "    return ((int(ba) > int(ab)) - (int(ba) < int(ab)))\n",
    "\n",
    "      \n",
    "\n",
    "def myCompare(mycmp):\n",
    "\n",
    "    class K(object):\n",
    "\n",
    "        def __init__(self, obj, *args):\n",
    "\n",
    "            self.obj = obj\n",
    "\n",
    "        def __lt__(self, other):\n",
    "\n",
    "            return mycmp(self.obj, other.obj) < 0\n",
    "\n",
    "        def __gt__(self, other):\n",
    "\n",
    "            return mycmp(self.obj, other.obj) > 0\n",
    "\n",
    "        def __eq__(self, other):\n",
    "\n",
    "            return mycmp(self.obj, other.obj) == 0\n",
    "\n",
    "        def __le__(self, other):\n",
    "\n",
    "            return mycmp(self.obj, other.obj) <= 0\n",
    "\n",
    "        def __ge__(self, other):\n",
    "\n",
    "            return mycmp(self.obj, other.obj) >= 0\n",
    "\n",
    "        def __ne__(self, other):\n",
    "\n",
    "            return mycmp(self.obj, other.obj) != 0\n",
    "\n",
    "    return K\n",
    "\n",
    "\n",
    "\n",
    "def Pr2(a):\n",
    "\n",
    "    sorted_array = sorted(a, key=myCompare(Sravnenie))\n",
    "    number = \"\".join([str(i) for i in sorted_array])\n",
    "\n",
    "    print(number)"
   ]
  },
  {
   "cell_type": "code",
   "execution_count": 6,
   "id": "1f2148f5-20c7-4f14-a9c6-fa8c3875440c",
   "metadata": {},
   "outputs": [
    {
     "name": "stdout",
     "output_type": "stream",
     "text": [
      "Zadacha 2\n",
      "510\n",
      "9543393\n",
      "1\n",
      "10\n"
     ]
    }
   ],
   "source": [
    "def Program2():\n",
    "    \n",
    "    nums = [10,5]\n",
    "    Pr2(nums)\n",
    "    \n",
    "    nums = [39,3,43,5,9]\n",
    "    Pr2(nums)\n",
    "    \n",
    "    nums = [1]\n",
    "    Pr2(nums)\n",
    "    \n",
    "    nums = [10]\n",
    "    Pr2(nums)\n",
    "    \n",
    "print(\"Zadacha 2\")\n",
    "Program2()"
   ]
  },
  {
   "cell_type": "markdown",
   "id": "9b952428",
   "metadata": {},
   "source": [
    "# Задача 3. \n",
    "«Сортировка диагоналей в матрице»\n",
    "Дана матрица mat размером m * n, значения целочисленные. Напишите функцию, сортирующую каждую диагональ матрицы по возрастанию и возвращающую получившуюся матрицу."
   ]
  },
  {
   "cell_type": "code",
   "execution_count": 7,
   "id": "596033e7",
   "metadata": {},
   "outputs": [],
   "source": [
    "import numpy\n",
    "\n",
    "def sort_matrix(mat):\n",
    "    height = len(mat)\n",
    "    width = len(mat[0])\n",
    "\n",
    "    for x_start in range(1, width):\n",
    "        line = []\n",
    "        x = x_start\n",
    "        for y in range(height - (0 if width - height - x >= 0 else abs(width - height - x)) ):\n",
    "            line.append(mat[y][x])\n",
    "            x += 1\n",
    "        #print(line)\n",
    "        line.sort()\n",
    "        #print(line)\n",
    "\n",
    "        x = x_start\n",
    "        for y in range(height - (0 if width - height - x >= 0 else abs(width - height - x)) ):\n",
    "            mat[y][x] = line[y]\n",
    "            x += 1\n",
    "\n",
    "    for y_start in range(0, height):\n",
    "        line = []\n",
    "        y = y_start\n",
    "        for x in range(width - (0 if height - width - y >= 0 else abs(height - width - y)) ):\n",
    "            line.append(mat[y][x])\n",
    "            y += 1\n",
    "        #print(line)\n",
    "        line.sort()\n",
    "        #print(line)\n",
    "\n",
    "        y = y_start\n",
    "        for x in range(width - (0 if height - width - y >= 0 else abs(height - width - y)) ):\n",
    "            mat[y][x] = line[x]\n",
    "            y += 1"
   ]
  },
  {
   "cell_type": "code",
   "execution_count": 8,
   "id": "bc894eae",
   "metadata": {},
   "outputs": [
    {
     "name": "stdout",
     "output_type": "stream",
     "text": [
      "[[1 9 4 5]\n",
      " [1 7 8 9]\n",
      " [0 0 4 4]\n",
      " [9 5 4 6]\n",
      " [6 7 5 4]]\n",
      "[[1 4 4 5]\n",
      " [0 4 8 9]\n",
      " [0 1 6 9]\n",
      " [7 5 4 7]\n",
      " [6 9 5 4]]\n"
     ]
    }
   ],
   "source": [
    "matrix = numpy.random.randint(0, 10, size=(5,4))\n",
    "print(matrix)\n",
    "\n",
    "sort_matrix(matrix)\n",
    "print(matrix)"
   ]
  },
  {
   "cell_type": "markdown",
   "id": "88a21a06",
   "metadata": {},
   "source": [
    "# Задачи из файла \"Задачи на дом 27 февраля.docx\"\n",
    "Задача 2. Правильный подмногоугольник\n",
    "\n",
    "Задан правильный N-угольник. Требуется выбрать наименьшее количество его вершин, которые также образуют правильный многоугольник.\n",
    "\n",
    "Входные данные содержат одно целое число N (3 ≤ N ≤ 1012).\n",
    "\n",
    "Вывод\n",
    "\n",
    "Выведите одно число — наименьшее количество вершин заданного многоугольника, которые образуют правильный многоугольник."
   ]
  },
  {
   "cell_type": "code",
   "execution_count": 10,
   "id": "7bb0a4dc-cd6f-403b-96c9-5dd23aa24d21",
   "metadata": {},
   "outputs": [
    {
     "name": "stdout",
     "output_type": "stream",
     "text": [
      "Input N\n",
      "9\n",
      "3\n"
     ]
    }
   ],
   "source": [
    "from math import *\n",
    "\n",
    "print(\"Input N\")\n",
    "\n",
    "N = int(input())\n",
    "t = 0\n",
    "\n",
    "if (N % 3) == 0:\n",
    "    print('3')\n",
    "elif (N % 2) == 1:\n",
    "    for i in range(2, floor(sqrt(N)) + 1, 1):\n",
    "        if (N % i) == 0:\n",
    "            print(i)\n",
    "            break\n",
    "elif ((N % 2) == 0) and ((N % 4) != 0):\n",
    "    for i in range(3, floor(sqrt(N)), 2):\n",
    "        if (N % i) == 0:\n",
    "            t = i\n",
    "            break\n",
    "    if t == 0:\n",
    "        print(N // 2)\n",
    "    else:\n",
    "        print(t)\n",
    "elif ((N % 4) == 0):\n",
    "    print('4')\n",
    "else:\n",
    "    for i in range(3, N + 1, 1):\n",
    "        if (N % i) == 0:\n",
    "            print(i)\n",
    "            break"
   ]
  },
  {
   "cell_type": "markdown",
   "id": "2c6324ce",
   "metadata": {},
   "source": [
    "# Задача 1.\n",
    "\n",
    "В Тридевятом Царстве уже много лет как установилась конституционная монархия. В парламент Тридевятого царства входят 26 партий, обозначаемых строчными буквами английского алфавита от «a» до «z». Заседание парламента в соответствии с регламентом проходит по следующей схеме:\n",
    "\n",
    "● В начале заседания никаких законопроектов на повестке дня не стоит.\n",
    "\n",
    "● Любая партия (в том числе и та, которая внесла текущий законопроект) в любой момент времени может внести на обсуждение новый законопроект.\n",
    "\n",
    "● При вносе партией нового законопроекта обсуждение предыдущего приостанавливается и начинается обсуждение нового. После того, как парламентарии голосуют за новый законопроект, обсуждение законопроекта, прерванного им, продолжается.\n",
    "\n",
    "● Дискуссия по любому законопроекту обязана завершиться голосованием по этому законопроекту.\n",
    "\n",
    "● В конце заседания не должно остаться внесённых законопроектов, дискуссия по которым не завершена.\n",
    "\n",
    "Вам дана запись о событиях на сессии парламента. Каждое событие является либо внесением нового законопроекта, либо голосованием за какой-то законопроект, причём в обоих случаях известен номер партии, этот законопроект предложившей. События даны в том порядке, в котором они происходили. Проверьте, может ли данная запись о событиях соответствовать\n",
    "\n",
    "какому-либо заседанию, удовлетворяющему порядку проведения, описанному выше.\n",
    "\n",
    "Входные данные\n",
    "\n",
    "Первая строка входных данных содержит одно целое число K – количество строк в записи сессии (1 ≤ K ≤ 1000). Каждая строка соответствует одному из двух событий:\n",
    "\n",
    "● Add x – партия x внесла на голосование законопроект.\n",
    "\n",
    "● Vote x – прошло голосование за документ, внесённый партией x.\n",
    "\n",
    "Здесь x – строчная буква английского алфавита от «a» до «z», задающая партию"
   ]
  },
  {
   "cell_type": "code",
   "execution_count": 18,
   "id": "a8997441",
   "metadata": {},
   "outputs": [
    {
     "name": "stdout",
     "output_type": "stream",
     "text": [
      "Input K\n",
      "2\n",
      "Add y\n",
      "Vote y\n",
      "YES\n"
     ]
    }
   ],
   "source": [
    "print(\"Input K\")\n",
    "\n",
    "stack_store = []\n",
    "t = 0\n",
    "\n",
    "K = int(input())\n",
    "\n",
    "for i in range(K):\n",
    "    S = str(input())\n",
    "    \n",
    "    if (S.find(\"Add\") != -1):\n",
    "        stack_store.append(S[4])\n",
    "        \n",
    "    if (S.find(\"Vote\") != -1):\n",
    "        if S[5] != stack_store[-1]:\n",
    "            t = t - 1\n",
    "        elif S[5] == stack_store[-1]:\n",
    "            t = t + 1\n",
    "            stack_store.pop()\n",
    "        elif stack_store == []:\n",
    "            t = t - 1\n",
    "        \n",
    "\n",
    "if stack_store != []:\n",
    "    t = t - 1\n",
    "    \n",
    "if (t == (K / 2)) or ((K == 1) and (S == \"\")):\n",
    "    print(\"YES\")\n",
    "else:\n",
    "    print(\"NO\")"
   ]
  },
  {
   "cell_type": "markdown",
   "id": "35528a6e",
   "metadata": {},
   "source": [
    "# ЗАДАЧА 1\n",
    "Даны две строки: s1 и s2 с одинаковым размером, проверьте, может ли\n",
    "некоторая перестановка строки s1 “победить” некоторую перестановку\n",
    "строки s2 или наоборот.\n",
    "Строка x может “победить” строку y (обе имеют размер n), если x[i]> = y\n",
    "[i] (в алфавитном порядке) для всех i от 0 до n-1.\n",
    "\n",
    "Примеры:\n",
    "Input: s1 = \"abc\", s2 = \"xya\"\n",
    "Output: true\n",
    "\n",
    "Объяснение: «ayx» - это перестановка строки s2 = «xya»,\n",
    "которая “побеждает” строку s1 = «abc».\n",
    "Input: s1 = \"abe\", s2 = \"acd\"\n",
    "Output: false\n",
    "\n",
    "Объяснение: Все перестановки для s1 = \"abe\": \"abe\", \"aeb\",\n",
    "\"bae\", \"bea\", \"eab\" и \"eba\", а все перестановки для s2 =\n",
    "\"acd\": \"acd\", «adc», «cad», «cda», «dac» и «ca». Однако нет\n",
    "никакой перестановки строки s1, которая может нарушить\n",
    "некоторую перестановку строки s2 и наоборот.\n",
    "s1.length == n\n",
    "s2.length == n\n",
    "1 <= n <= 10^5\n"
   ]
  },
  {
   "cell_type": "code",
   "execution_count": 19,
   "id": "f711c3c1",
   "metadata": {},
   "outputs": [],
   "source": [
    "from itertools import permutations\n",
    "\n",
    "\n",
    "def can_win(s_attack, s_defend):\n",
    "    for i in range(len(s_attack)):\n",
    "        if s_attack[i] < s_defend[i]:\n",
    "            return False\n",
    "    return True\n",
    "\n",
    "\n",
    "def all_combinations(s1_origin, s2_origin):\n",
    "    arr_all_comb1 = [''.join(p) for p in permutations(s1_origin)]\n",
    "    arr_all_comb2 = [''.join(p) for p in permutations(s2_origin)]\n",
    "    for s1 in arr_all_comb1:\n",
    "        for s2 in arr_all_comb2:\n",
    "            if s1 != s2:\n",
    "                if can_win(s1, s2) or can_win(s2, s1):\n",
    "                    return True\n",
    "    return False"
   ]
  },
  {
   "cell_type": "code",
   "execution_count": 21,
   "id": "7fdc6d8d",
   "metadata": {},
   "outputs": [
    {
     "name": "stdout",
     "output_type": "stream",
     "text": [
      "False\n",
      "True\n"
     ]
    }
   ],
   "source": [
    "print(all_combinations('abe', 'acd'))\n",
    "print(all_combinations('abc', 'xya'))"
   ]
  },
  {
   "cell_type": "markdown",
   "id": "f939a26f",
   "metadata": {},
   "source": [
    "# ЗАДАЧА 2\n",
    "Дана строка s, вернуть самую длинную полиндромную подстроку в s.\n",
    "\n",
    "Примеры:\n",
    "Input: s = \"babad\"\n",
    "Output: \"bab\"\n",
    "Note: \"aba\" is also a valid answer.\n",
    "Input: s = \"cbbd\"\n",
    "Output: \"bb\"\n"
   ]
  },
  {
   "cell_type": "code",
   "execution_count": 22,
   "id": "41ac10c6",
   "metadata": {},
   "outputs": [],
   "source": [
    "def isPalindrome(s):\n",
    "    return s == s[::-1]\n",
    "\n",
    "\n",
    "def longest_palindrome(s):\n",
    "    s_longest_pal = ''\n",
    "    length = len(s)\n",
    "    arr_all_substrings = [s[i: j] for i in range(len(s))\n",
    "           for j in range(i + 1, len(s) + 1)]\n",
    "\n",
    "    for s1 in arr_all_substrings:\n",
    "        if isPalindrome(s1):\n",
    "            if len(s1) > len(s_longest_pal):\n",
    "                s_longest_pal = s1\n",
    "    return s_longest_pal"
   ]
  },
  {
   "cell_type": "code",
   "execution_count": 28,
   "id": "c82f9386",
   "metadata": {},
   "outputs": [
    {
     "name": "stdout",
     "output_type": "stream",
     "text": [
      "bab\n",
      "bb\n"
     ]
    }
   ],
   "source": [
    "s = 'babad'\n",
    "print(longest_palindrome(s))\n",
    "s = 'cbbd'\n",
    "print(longest_palindrome(s))"
   ]
  },
  {
   "cell_type": "markdown",
   "id": "4e60f58c",
   "metadata": {},
   "source": [
    "# ЗАДАЧА 3\n",
    "Вернуть количество отдельных непустых подстрок текста, которые могут\n",
    "быть записаны как конкатенация некоторой строки с самой собой (т.е. она\n",
    "может быть записана, как a + a, где a - некоторая строка).\n",
    "\n",
    "Примеры:\n",
    "Input: text = \"abcabcabc\"\n",
    "Output: 3\n",
    "\n",
    "Explanation: The 3 substrings are \"abcabc\", \"bcabca\"\n",
    "and \"cabcab\".\n"
   ]
  },
  {
   "cell_type": "code",
   "execution_count": 26,
   "id": "d5d1a3e6",
   "metadata": {},
   "outputs": [],
   "source": [
    "from math import ceil\n",
    "\n",
    "\n",
    "def concat(s):\n",
    "\n",
    "    return s == s[:ceil(len(s) / 2)] + s[:ceil(len(s) / 2)]\n",
    "\n",
    "\n",
    "def all_concat(s):\n",
    "    dict_of_concat = dict()\n",
    "    length = len(s)\n",
    "    arr_all_substrings = [s[i: j] for i in range(length)\n",
    "           for j in range(i + 1, length + 1)]\n",
    "\n",
    "    for s1 in arr_all_substrings:\n",
    "        if concat(s1):\n",
    "            dict_of_concat.__setitem__(s1, 0)\n",
    "    return len(dict_of_concat)"
   ]
  },
  {
   "cell_type": "code",
   "execution_count": 27,
   "id": "8e1d9f40",
   "metadata": {},
   "outputs": [
    {
     "name": "stdout",
     "output_type": "stream",
     "text": [
      "3\n"
     ]
    }
   ],
   "source": [
    "s = 'abcabcabc'\n",
    "print(all_concat(s))"
   ]
  }
 ],
 "metadata": {
  "kernelspec": {
   "display_name": "Python 3",
   "language": "python",
   "name": "python3"
  },
  "language_info": {
   "codemirror_mode": {
    "name": "ipython",
    "version": 3
   },
   "file_extension": ".py",
   "mimetype": "text/x-python",
   "name": "python",
   "nbconvert_exporter": "python",
   "pygments_lexer": "ipython3",
   "version": "3.9.2"
  }
 },
 "nbformat": 4,
 "nbformat_minor": 5
}
