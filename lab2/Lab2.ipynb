{
 "cells": [
  {
   "cell_type": "raw",
   "id": "d002e39b-cd0f-4320-8b43-57d5279a6ee1",
   "metadata": {},
   "source": [
    "\n",
    "Лабораторная работа №2\n",
    "Методы поиска\n",
    "ЗАДАНИЕ 1"
   ]
  },
  {
   "cell_type": "raw",
   "id": "b1c5c0a1-1df1-457a-ae84-bbb3170661ad",
   "metadata": {},
   "source": [
    "БИНАРНЫЙ ПОИСК\n",
    "Описание алгоритма:\n",
    " 1.Находится средний элемент последовательности. Для этого первый и последний элементы связываются с переменными, а средний вычисляется.\n",
    " 2.Средний элемент сравнивается с искомым значение. В зависимости от того, больше оно или меньше среднего элемента, дальнейший поиск будет происходить лишь в левой или правой половинах массива. Если значение среднего элемента окажется равным искомому, то поиск завершен.\n",
    " 3.Одна из границ исследуемой последовательности становится равной предыдущему или последующему среднему элементу из п.2.\n",
    " 4.Снова находится средний элемент, теперь уже в «выбранной» половине. Описанный выше алгоритм повторяется уже для данной последовательности."
   ]
  },
  {
   "cell_type": "code",
   "execution_count": 2,
   "id": "f50f974d-1f79-4855-8df5-d3a0c9af5ab8",
   "metadata": {
    "tags": []
   },
   "outputs": [
    {
     "name": "stdout",
     "output_type": "stream",
     "text": [
      "[99, 43, 75, 28, 44, 7, 52, 26, 35, 75, 70, 32, 17, 6, 49, 23, 47, 26, 12, 90, 48, 32, 47, 89, 69, 81, 16, 70, 25, 77, 3, 12, 0, 84, 98, 38, 87, 81, 21, 66, 17, 72, 71, 35, 81, 27, 44, 35, 100, 58, 9, 46, 35, 76, 48, 87, 93, 49, 63, 16, 83, 50, 30, 50, 91, 88, 63, 69, 71, 71, 62, 24, 57, 98, 22, 80, 76, 86, 30, 31, 56, 86, 1, 23, 40, 22, 52, 64, 83, 18, 11, 75, 29, 79, 15, 72, 100, 9, 96, 59]\n",
      "[0, 1, 3, 6, 7, 9, 9, 11, 12, 12, 15, 16, 16, 17, 17, 18, 21, 22, 22, 23, 23, 24, 25, 26, 26, 27, 28, 29, 30, 30, 31, 32, 32, 35, 35, 35, 35, 38, 40, 43, 44, 44, 46, 47, 47, 48, 48, 49, 49, 50, 50, 52, 52, 56, 57, 58, 59, 62, 63, 63, 64, 66, 69, 69, 70, 70, 71, 71, 71, 72, 72, 75, 75, 75, 76, 76, 77, 79, 80, 81, 81, 81, 83, 83, 84, 86, 86, 87, 87, 88, 89, 90, 91, 93, 96, 98, 98, 99, 100, 100]\n"
     ]
    }
   ],
   "source": [
    "import random\n",
    "\n",
    "\n",
    "def generate_array(length=100):  # генерируем случайный массив\n",
    "    array = []\n",
    "    while len(array) < length:\n",
    "        array.append(random.randint(0, 100))\n",
    "    return array\n",
    "\n",
    "\n",
    "def default_sort(array):  # Сортируем с помощью встроенной функции\n",
    "    ans = array.copy()\n",
    "    ans.sort()\n",
    "    return ans\n",
    "\n",
    "\n",
    "\n",
    "init_array = generate_array(1_00)\n",
    "print(init_array)\n",
    "sorted_array = default_sort(init_array)\n",
    "print(sorted_array)"
   ]
  },
  {
   "cell_type": "code",
   "execution_count": 3,
   "id": "f84e6a2b-f728-4e07-8c6e-f2b962c9a384",
   "metadata": {},
   "outputs": [],
   "source": [
    "def binary_search(array, element):\n",
    "    arr_length = len(array)\n",
    "    left_bound = 0\n",
    "    right_bound = arr_length\n",
    "    middle = arr_length // 2\n",
    "    while array[middle] != element:\n",
    "        if right_bound - left_bound == 1: \n",
    "            return -1\n",
    "        if array[middle] > element:\n",
    "            right_bound = middle\n",
    "        else:\n",
    "            left_bound = middle\n",
    "        middle = (right_bound + left_bound) // 2\n",
    "    return middle"
   ]
  },
  {
   "cell_type": "code",
   "execution_count": 4,
   "id": "97a076c6-ee94-4d23-8d63-862a27ebd7f2",
   "metadata": {},
   "outputs": [],
   "source": [
    "def add_element_binary_search(array, element):\n",
    "    arr_length = len(array)\n",
    "    left_bound = 0\n",
    "    right_bound = arr_length\n",
    "    middle = arr_length // 2\n",
    "    while True:\n",
    "        if right_bound - left_bound == 1:  # поиск окончен, добавляем элемент в нужную часть\n",
    "            if right_bound == arr_length and element > array[arr_length - 1]:  # частный случай: добавление в конец\n",
    "                return array + [element]\n",
    "            if left_bound == 0 and element < array[0]:  # частный случай: добавление в начало\n",
    "                return [element] + array\n",
    "            return array[:right_bound] + [element] + array[right_bound:]\n",
    "\n",
    "        if array[middle] > element:\n",
    "            right_bound = middle\n",
    "        else:\n",
    "            left_bound = middle\n",
    "        middle = (right_bound + left_bound) // 2\n",
    "\n",
    "\n",
    "def remove_element_binary_search(array, element):\n",
    "    i = binary_search(array, element)\n",
    "    if i == -1:\n",
    "        return array\n",
    "    else:\n",
    "        return array[:i] + array[(i + 1):]"
   ]
  },
  {
   "cell_type": "code",
   "execution_count": 5,
   "id": "9ba865f6-9225-475c-a95f-6bcadd1321c3",
   "metadata": {},
   "outputs": [
    {
     "name": "stdout",
     "output_type": "stream",
     "text": [
      "[0, 1, 3, 6, 7, 9, 9, 11, 12, 12, 15, 16, 16, 17, 17, 18, 21, 22, 22, 23, 23, 24, 25, 26, 26, 27, 28, 29, 30, 30, 31, 32, 32, 35, 35, 35, 35, 38, 40, 43, 44, 44, 46, 47, 47, 48, 48, 49, 49, 50, 50, 52, 52, 56, 57, 58, 59, 62, 63, 63, 64, 66, 69, 69, 70, 70, 71, 71, 71, 72, 72, 75, 75, 75, 76, 76, 77, 79, 80, 81, 81, 81, 83, 83, 84, 86, 86, 87, 87, 88, 89, 90, 91, 93, 96, 98, 98, 99, 100, 100]\n",
      "Элемент 21 имеет индекс 16\n",
      "Элемент 66 имеет индекс 61\n"
     ]
    }
   ],
   "source": [
    "el_to_search_1 = 21\n",
    "el_to_search_2 = 66\n",
    "binary_search_array = default_sort(init_array)\n",
    "print(binary_search_array)\n",
    "\n",
    "print('Элемент %i имеет индекс %i' % (el_to_search_1, binary_search(binary_search_array, el_to_search_1)))\n",
    "print('Элемент %i имеет индекс %i' % (el_to_search_2, binary_search(binary_search_array, el_to_search_2)))"
   ]
  },
  {
   "cell_type": "raw",
   "id": "2dfe5ace-07d9-4ad8-b6a5-3934248d1d14",
   "metadata": {},
   "source": [
    "БИНАРНОЕ ДЕРЕВО\n"
   ]
  },
  {
   "cell_type": "code",
   "execution_count": 24,
   "id": "91d149a1-fc79-476e-88dc-df40932419ef",
   "metadata": {},
   "outputs": [],
   "source": [
    "\n",
    "\n",
    "\n",
    "class Node:\n",
    "    def __init__(self, key):\n",
    "        self.left = None\n",
    "        self.right = None\n",
    "        self.val = key\n",
    "\n",
    "\n",
    "def make_binary_tree(array):\n",
    "    rr = Node(None)\n",
    "    for x in array:\n",
    "        rr = add_element_binary_tree(rr, x)\n",
    "    return rr\n",
    "\n",
    "\n",
    "def print_node(node):\n",
    "    if node is None or node.val is None:\n",
    "        print(\"Н\", end=\" \")\n",
    "    else:\n",
    "        print(node.val, end=\" \")\n",
    "\n",
    "\n",
    "def print_binary_tree(*nodes):\n",
    "    new_nodes = []\n",
    "    for node in nodes:\n",
    "        print_node(node)\n",
    "        if node is not None:\n",
    "            new_nodes.append(node.left)\n",
    "            new_nodes.append(node.right)\n",
    "        else:\n",
    "            new_nodes.append(None)\n",
    "            new_nodes.append(None)\n",
    "    print(\" \")\n",
    "\n",
    "    if not new_nodes or not all(x is None for x in new_nodes):\n",
    "        print_binary_tree(*new_nodes)"
   ]
  },
  {
   "cell_type": "code",
   "execution_count": 11,
   "id": "bab53ca4-5784-4321-ad74-b6706fb14267",
   "metadata": {},
   "outputs": [],
   "source": [
    "def binary_tree_search(root, key):  # поиск элемента в бинарном дереве\n",
    "    if root is None or root.val == key:  # возвращает найденный эл., и None если эл. не найден\n",
    "        return root\n",
    "    if root.val <= key:  # поиск...\n",
    "        return binary_tree_search(root.right, key)\n",
    "    return binary_tree_search(root.left, key)"
   ]
  },
  {
   "cell_type": "code",
   "execution_count": 13,
   "id": "83bc0c32-97ef-40a8-8bc1-f42361c178ef",
   "metadata": {},
   "outputs": [],
   "source": [
    "   def add_element_binary_tree(root, key):\n",
    "    if root is None:\n",
    "        return Node(key)\n",
    "    if root.val is None:\n",
    "        return Node(key)\n",
    "    else:\n",
    "        if root.val < key:\n",
    "            root.right = add_element_binary_tree(root.right, key)\n",
    "        else:\n",
    "            root.left = add_element_binary_tree(root.left, key)\n",
    "    return root\n",
    "\n",
    "\n",
    "def remove_element_binary_tree_search(root, key):\n",
    "    if root is None:\n",
    "        return root\n",
    "\n",
    "    if key < root.val:\n",
    "        root.left = remove_element_binary_tree_search(root.left, key)\n",
    "    elif key > root.val:\n",
    "        root.right = remove_element_binary_tree_search(root.right, key)\n",
    "    else:\n",
    "        # случаи: у родителя только 1 ребёнок\n",
    "        if root.left is None:\n",
    "            buffer = root.right\n",
    "            root = None\n",
    "            return buffer\n",
    "        elif root.right is None:  # в любой непонятной ситуации бери левого ребёнка\n",
    "            buffer = root.left\n",
    "            root = None\n",
    "            return buffer\n",
    "        # случай: у родителя 2 ребёнка\n",
    "        min_node = root.right\n",
    "        # ищем минимальный элемент справа\n",
    "        while min_node.left is not None:\n",
    "            min_node = min_node.left\n",
    "        root.val = min_node.val\n",
    "        root.right = remove_element_binary_tree_search(root.right, min_node.val)\n",
    "    return root"
   ]
  },
  {
   "cell_type": "code",
   "execution_count": 16,
   "id": "6bfafd17-07cf-49c8-8068-e50f068f4efa",
   "metadata": {},
   "outputs": [
    {
     "name": "stdout",
     "output_type": "stream",
     "text": [
      "бинарное дерево из массива\n",
      "74  \n",
      "65 100  \n",
      "22 73 77 Н  \n",
      "5 62 Н Н Н Н Н Н  \n",
      "4 10 Н Н Н Н Н Н Н Н Н Н Н Н Н Н  \n",
      "добавляем элемент 5\n",
      "74  \n",
      "65 100  \n",
      "22 73 77 Н  \n",
      "5 62 Н Н Н Н Н Н  \n",
      "4 10 Н Н Н Н Н Н Н Н Н Н Н Н Н Н  \n",
      "Н 5 Н Н Н Н Н Н Н Н Н Н Н Н Н Н Н Н Н Н Н Н Н Н Н Н Н Н Н Н Н Н  \n",
      "убираем элемент 5\n",
      "74  \n",
      "65 100  \n",
      "22 73 77 Н  \n",
      "10 62 Н Н Н Н Н Н  \n",
      "4 Н Н Н Н Н Н Н Н Н Н Н Н Н Н Н  \n",
      "Н 5 Н Н Н Н Н Н Н Н Н Н Н Н Н Н Н Н Н Н Н Н Н Н Н Н Н Н Н Н Н Н  \n",
      "ищем элемент 50\n",
      "50 "
     ]
    }
   ],
   "source": [
    "\n",
    "array_for_tree = generate_array(10)\n",
    "element_to_search = 50\n",
    "r = make_binary_tree(array_for_tree)\n",
    "print('бинарное дерево из массива')\n",
    "print_binary_tree(r)\n",
    "r = add_element_binary_tree(r, 5)\n",
    "print('добавляем элемент 5')\n",
    "print_binary_tree(r)\n",
    "r = remove_element_binary_tree_search(r, 5)\n",
    "print('убираем элемент 5')\n",
    "print_binary_tree(r)\n",
    "\n",
    "r = add_element_binary_tree(r, 50)\n",
    "print('ищем элемент %i' % element_to_search)\n",
    "print_node(binary_tree_search(r, element_to_search))"
   ]
  },
  {
   "cell_type": "raw",
   "id": "35a9f392-4041-4371-8fc5-eb3ad8f992e8",
   "metadata": {},
   "source": [
    "ФИБОНАЧЧИ ПОИСК\n",
    "Числа Фибоначчи  — это последовательность чисел 0, 1, 1, 2, 3, 5, 8, 13, 21 …, где каждый элемент является суммой двух предыдущих чисел.\n",
    "\n",
    "Алгоритм работает с тремя числами Фибоначчи одновременно. Давайте назовем эти три числа fibM, fibM_minus_1 и fibM_minus_2. Где fibM_minus_1 и fibM_minus_2 — это два числа, предшествующих fibM в последовательности:\n",
    "\n",
    "fibM = fibM_minus_1 + fibM_minus_2\n",
    "\n",
    "Мы инициализируем значения 0, 1, 1 или первые три числа в последовательности Фибоначчи. Это поможет нам избежать  IndexError в случае, когда наш массив lys содержит очень маленькое количество элементов.\n",
    "\n",
    "Затем мы выбираем наименьшее число последовательности Фибоначчи, которое больше или равно числу элементов в нашем массиве lys, в качестве значения fibM. А два числа Фибоначчи непосредственно перед ним — в качестве значений fibM_minus_1 и fibM_minus_2. Пока в массиве есть элементы и значение fibM больше единицы, мы:\n",
    "\n",
    "Сравниваем val со значением блока в диапазоне до fibM_minus_2 и возвращаем индекс элемента, если он совпадает.\n",
    "Если значение больше, чем элемент, который мы в данный момент просматриваем, мы перемещаем значения fibM, fibM_minus_1 и fibM_minus_2 на два шага вниз в последовательности Фибоначчи и меняем индекс на индекс элемента.\n",
    "Если значение меньше, чем элемент, который мы в данный момент просматриваем, мы перемещаем значения fibM, fibM_minus_1 и fibM_minus_2 на один шаг вниз в последовательности Фибоначчи."
   ]
  },
  {
   "cell_type": "code",
   "execution_count": 17,
   "id": "9891298c-0707-4a93-a642-b394035a0ec0",
   "metadata": {},
   "outputs": [],
   "source": [
    "def fibonacci_search(array, element):\n",
    "    arr_length = len(array)\n",
    "    fpast = 0\n",
    "    fnow = 1\n",
    "    while True:  # пытаемся найти промежуток, где находится наше значение\n",
    "        if fnow >= arr_length:  # дошли до конца массива промежутком\n",
    "            if array[arr_length - 1] < element:\n",
    "                return -1\n",
    "            else:\n",
    "                fnow = arr_length - 1\n",
    "                break\n",
    "        if array[fnow] >= element:\n",
    "            break\n",
    "        buffer = fnow\n",
    "        fnow = fnow + fpast\n",
    "        fpast = buffer\n",
    "\n",
    "    for i in range(fpast, fnow + 1):\n",
    "        if array[i] == element:\n",
    "            return i\n",
    "    return -1"
   ]
  },
  {
   "cell_type": "code",
   "execution_count": 19,
   "id": "bda362e5-571a-4fd9-a46e-648f391132f1",
   "metadata": {},
   "outputs": [
    {
     "name": "stdout",
     "output_type": "stream",
     "text": [
      "[0, 1, 3, 6, 7, 9, 9, 11, 12, 12, 15, 16, 16, 17, 17, 18, 21, 22, 22, 23, 23, 24, 25, 26, 26, 27, 28, 29, 30, 30, 31, 32, 32, 35, 35, 35, 35, 38, 40, 43, 44, 44, 46, 47, 47, 48, 48, 49, 49, 50, 50, 52, 52, 56, 57, 58, 59, 62, 63, 63, 64, 66, 69, 69, 70, 70, 71, 71, 71, 72, 72, 75, 75, 75, 76, 76, 77, 79, 80, 81, 81, 81, 83, 83, 84, 86, 86, 87, 87, 88, 89, 90, 91, 93, 96, 98, 98, 99, 100, 100]\n",
      "Элемент 32 имеет индекс 31\n"
     ]
    }
   ],
   "source": [
    "fibonacci_array = default_sort(init_array)\n",
    "print(fibonacci_array)\n",
    "element_to_search = 32\n",
    "\n",
    "print('Элемент %i имеет индекс %i' % (element_to_search, fibonacci_search(fibonacci_array, element_to_search)))"
   ]
  },
  {
   "cell_type": "raw",
   "id": "58b28796-2fbe-4ee4-bd99-0b1843f357db",
   "metadata": {},
   "source": [
    "ИНТЕРПОЛЯЦИОННЫЙ ПОИСК\n",
    "Интерполяционный поиск вычисляет вероятную позицию искомого элемента по формуле:\n",
    "\n",
    "index = low + [(val-lys[low])*(high-low) / (lys[high]-lys[low])]\n",
    "В этой формуле используются следующие переменные:\n",
    "\n",
    "lys — наш входной массив.\n",
    "val — искомый элемент.\n",
    "index — вероятный индекс искомого элемента. Он вычисляется как более высокое значение, когда значение val ближе по значению к элементу в конце массива (lys[high]), и более низкое, когда значение val ближе по значению к элементу в начале массива (lys[low]).\n",
    "low — начальный индекс массива.\n",
    "high — последний индекс массива.\n",
    "Алгоритм осуществляет поиск путем вычисления значения индекса:\n",
    "\n",
    "Если значение найдено (когда lys[index] == val), возвращается индекс.\n",
    "Если значение val меньше lys[index], то значение индекса пересчитывается по формуле для левого подмассива.\n",
    "Если значение val больше lys[index], то значение индекса пересчитывается по формуле для правого подмассива."
   ]
  },
  {
   "cell_type": "code",
   "execution_count": 20,
   "id": "23eaa065-04dd-4c72-b9d9-1c103c631024",
   "metadata": {},
   "outputs": [],
   "source": [
    "def interpolation_search(array, element):\n",
    "    low = 0\n",
    "    high = len(array) - 1\n",
    "    while array[low] < element < array[high]:\n",
    "        if array[high] == array[low]:\n",
    "            break\n",
    "        mid = low + ((element - array[low]) * (high - low) // (array[high] - array[low]))\n",
    "        if array[mid] < element:\n",
    "            low = mid + 1\n",
    "        elif array[mid] > element:\n",
    "            high = mid - 1\n",
    "        else:\n",
    "            return mid\n",
    "    if array[low] == element:\n",
    "        return low\n",
    "    if array[high] == element:\n",
    "        return high\n",
    "\n",
    "    return -1"
   ]
  },
  {
   "cell_type": "code",
   "execution_count": 22,
   "id": "bdbf7bdd-bb3e-4d95-84e8-30e239d2f23a",
   "metadata": {},
   "outputs": [
    {
     "name": "stdout",
     "output_type": "stream",
     "text": [
      "[0, 1, 3, 6, 7, 9, 9, 11, 12, 12, 15, 16, 16, 17, 17, 18, 21, 22, 22, 23, 23, 24, 25, 26, 26, 27, 28, 29, 30, 30, 31, 32, 32, 35, 35, 35, 35, 38, 40, 43, 44, 44, 46, 47, 47, 48, 48, 49, 49, 50, 50, 52, 52, 56, 57, 58, 59, 62, 63, 63, 64, 66, 69, 69, 70, 70, 71, 71, 71, 72, 72, 75, 75, 75, 76, 76, 77, 79, 80, 81, 81, 81, 83, 83, 84, 86, 86, 87, 87, 88, 89, 90, 91, 93, 96, 98, 98, 99, 100, 100]\n",
      "Элемент 11 имеет индекс 7\n"
     ]
    }
   ],
   "source": [
    "interpolated_array = default_sort(init_array)\n",
    "print(interpolated_array)\n",
    "element_to_search = 11\n",
    "\n",
    "print('Элемент %i имеет индекс %i' % (element_to_search, interpolation_search(interpolated_array, element_to_search)))"
   ]
  },
  {
   "cell_type": "code",
   "execution_count": 23,
   "id": "85f84fc4-f6a2-46b1-95e0-4962d0892c00",
   "metadata": {},
   "outputs": [
    {
     "name": "stdout",
     "output_type": "stream",
     "text": [
      "ищем 38 в массиве [1, 2, 2, 4, 4, 5, 7, 7, 8, 9, 10, 15, 16, 17, 18, 19, 22, 22, 23, 24, 27, 28, 28, 29, 30, 31, 31, 32, 32, 32, 36, 36, 37, 38, 38, 39, 40, 40, 42, 44, 46, 49, 49, 51, 51, 53, 54, 56, 56, 56, 57, 57, 57, 60, 60, 61, 63, 63, 64, 65, 66, 66, 67, 67, 67, 68, 68, 68, 69, 70, 72, 76, 77, 77, 78, 78, 78, 80, 80, 81, 81, 83, 83, 86, 86, 88, 89, 91, 92, 92, 93, 94, 95, 95, 95, 96, 96, 97, 98, 100]\n",
      "двоичный поиск             5.600000008598727e-06\n",
      "поиск в бинарном деревер   1.3400000057117722e-05\n",
      "фибоначчиев поиск          6.800000051043753e-06\n",
      "интерполяционный поиск     3.900000024259498e-06\n",
      "поиск по умолчанию         3.3999999686784577e-06\n"
     ]
    }
   ],
   "source": [
    "import timeit\n",
    "our_element = random.randint(0,100)\n",
    "our_array = default_sort(generate_array(100))\n",
    "print('ищем %i в массиве %a' %(our_element, our_array))\n",
    "r = make_binary_tree(our_array)\n",
    "print(\"двоичный поиск             \" + str(timeit.timeit(\"binary_search(binary_search_array, our_element)\", number=1, globals=globals())))\n",
    "print(\"поиск в бинарном деревер   \" + str(timeit.timeit(\"binary_tree_search(r, our_element)\", number=1, globals=globals())))\n",
    "print(\"фибоначчиев поиск          \" + str(timeit.timeit(\"fibonacci_search(binary_search_array, our_element)\", number=1, globals=globals())))\n",
    "print(\"интерполяционный поиск     \" + str(timeit.timeit(\"interpolation_search(binary_search_array, our_element)\", number=1, globals=globals())))\n",
    "print(\"поиск по умолчанию         \" + str(timeit.timeit(\"our_array.__contains__(our_element)\", number=1, globals=globals())))"
   ]
  },
  {
   "cell_type": "raw",
   "id": "fc8bfe40-23b1-40c7-b104-b2f5180bf742",
   "metadata": {},
   "source": [
    "ЗАДАНИЕ 2"
   ]
  },
  {
   "cell_type": "raw",
   "id": "c6cd043a-553a-4dfd-a10f-39e8c5196bb1",
   "metadata": {},
   "source": [
    "Код для создания объекта"
   ]
  },
  {
   "cell_type": "code",
   "execution_count": 25,
   "id": "ef698fe6-e0d2-48a1-b765-da9d53adc5c7",
   "metadata": {},
   "outputs": [],
   "source": [
    "class ClassForRehash:\n",
    "    \"\"\"\n",
    "    Класс для наглядных примеров рехэширования с крайне примитивным хэшированием (для наглядности). \\r\\n\n",
    "        Особенность:\n",
    "            -Хеш зависит только от единиц в числе value1 (для удобства создания коллизий)\n",
    "    \"\"\"\n",
    "    def __init__(self, value1):\n",
    "        self.value1 = value1\n",
    "        self.hash = int((((value1 % ClassForRehash.MAX_HASH_TABLE) * 331) & 127) % ClassForRehash.MAX_HASH_TABLE)\n",
    "\n",
    "    MAX_HASH_TABLE = 8"
   ]
  },
  {
   "cell_type": "raw",
   "id": "1a0950ac-e407-44d4-bca8-a46ec1638706",
   "metadata": {},
   "source": [
    "ПРОСТОЕ РЕХЭШИРОВАНИЕ\n"
   ]
  },
  {
   "cell_type": "code",
   "execution_count": 26,
   "id": "717a6ec3-29e5-4d46-81d4-609952e9df7a",
   "metadata": {},
   "outputs": [],
   "source": [
    "class SimpleRehashTable:\n",
    "\n",
    "    def __init__(self, length):\n",
    "        self.table = [None] * length\n",
    "\n",
    "    def add_el(self, element):\n",
    "        original_hash = element.hash\n",
    "        if self.table[original_hash] is None:\n",
    "            self.table[original_hash] = element\n",
    "            print(\"объект со значением %i имеет хэш: %i (рехеширование не требовалось)\"\n",
    "                  % (self.table[original_hash].value1, element.hash))\n",
    "            return\n",
    "\n",
    "        \"\"\"\"\"\n",
    "        простое рехеширование\n",
    "        \"\"\"\"\"\n",
    "        new_hash = original_hash + 1\n",
    "        while new_hash != original_hash:\n",
    "            if new_hash >= len(self.table):\n",
    "                new_hash = 0\n",
    "                continue\n",
    "            if self.table[new_hash] is None:\n",
    "                element.hash = new_hash\n",
    "                self.table[new_hash] = element\n",
    "                print(\"объект со значением %i имеет хэш: %i (рехешировано. коллизия была в хеше: %i)\"\n",
    "                      % (self.table[new_hash].value1, element.hash, original_hash))\n",
    "                return\n",
    "            new_hash += 1\n",
    "        print(\"таблица заполнена!\")\n",
    "        return"
   ]
  },
  {
   "cell_type": "code",
   "execution_count": 27,
   "id": "ec185ff8-bd1d-40b9-94fb-7427470460fc",
   "metadata": {},
   "outputs": [
    {
     "name": "stdout",
     "output_type": "stream",
     "text": [
      "объект со значением 1 имеет хэш: 3 (рехеширование не требовалось)\n",
      "объект со значением 1 имеет хэш: 4 (рехешировано. коллизия была в хеше: 3)\n",
      "объект со значением 6 имеет хэш: 2 (рехеширование не требовалось)\n",
      "объект со значением 0 имеет хэш: 0 (рехеширование не требовалось)\n",
      "объект со значением 8 имеет хэш: 1 (рехешировано. коллизия была в хеше: 0)\n",
      "объект со значением 7 имеет хэш: 5 (рехеширование не требовалось)\n",
      "объект со значением 3 имеет хэш: 6 (рехешировано. коллизия была в хеше: 1)\n",
      "объект со значением 1 имеет хэш: 7 (рехешировано. коллизия была в хеше: 3)\n",
      "таблица заполнена!\n",
      "таблица заполнена!\n"
     ]
    }
   ],
   "source": [
    "simple_re = SimpleRehashTable(ClassForRehash.MAX_HASH_TABLE)\n",
    "for i in range(len(simple_re.table) + 2):\n",
    "    simple_re.add_el(ClassForRehash(random.randint(0, 9)))"
   ]
  },
  {
   "cell_type": "raw",
   "id": "f90a9f07-51d6-4e17-b3aa-74998a1641b8",
   "metadata": {},
   "source": [
    "СЛУЧАЙНОЕ РЕХЭШИРОВАНИЕ"
   ]
  },
  {
   "cell_type": "code",
   "execution_count": 28,
   "id": "d8bb4639-3f12-49b1-863f-2d1c6e24400a",
   "metadata": {},
   "outputs": [],
   "source": [
    "class RandomRehashTable:\n",
    "\n",
    "    def __init__(self, length):\n",
    "        self.table = [None] * length\n",
    "\n",
    "    def add_el(self, element):\n",
    "        original_hash = element.hash\n",
    "        if self.table[original_hash] is None:\n",
    "            self.table[original_hash] = element\n",
    "            print(\"объект со значением %i имеет хэш: %i (рехеширование не требовалось)\"\n",
    "                  % (self.table[original_hash].value1, original_hash))\n",
    "            return\n",
    "\n",
    "        \"\"\"\"\"\n",
    "        случайное рехеширование\n",
    "        \"\"\"\"\"\n",
    "        table_len = len(self.table)\n",
    "        r = 1\n",
    "        for ii in range(10):  # range(число попыток определить новый хеш)\n",
    "            r *= 5\n",
    "            r = r % (4 * table_len)\n",
    "            new_hash = r // 4\n",
    "            if self.table[new_hash] is None:\n",
    "                element.hash = new_hash\n",
    "                self.table[new_hash] = element\n",
    "                print(\"объект со значением %i имеет хэш: %i (рехешировано. коллизия была в хеше: %i)\"\n",
    "                      % (self.table[new_hash].value1, element.hash, original_hash))\n",
    "                return\n",
    "        print(\"Не удалось найти свободный хеш в таблице!\")\n",
    "        return"
   ]
  },
  {
   "cell_type": "code",
   "execution_count": 29,
   "id": "8e96e793-4a6a-45f8-9ade-60b48b196bd0",
   "metadata": {},
   "outputs": [
    {
     "name": "stdout",
     "output_type": "stream",
     "text": [
      "объект со значением 5 имеет хэш: 7 (рехеширование не требовалось)\n",
      "объект со значением 5 имеет хэш: 1 (рехешировано. коллизия была в хеше: 7)\n",
      "объект со значением 3 имеет хэш: 6 (рехешировано. коллизия была в хеше: 1)\n",
      "объект со значением 1 имеет хэш: 3 (рехеширование не требовалось)\n",
      "объект со значением 3 имеет хэш: 4 (рехешировано. коллизия была в хеше: 1)\n",
      "объект со значением 5 имеет хэш: 5 (рехешировано. коллизия была в хеше: 7)\n",
      "объект со значением 0 имеет хэш: 0 (рехеширование не требовалось)\n",
      "объект со значением 0 имеет хэш: 2 (рехешировано. коллизия была в хеше: 0)\n",
      "Не удалось найти свободный хеш в таблице!\n",
      "Не удалось найти свободный хеш в таблице!\n"
     ]
    }
   ],
   "source": [
    "rand_re = RandomRehashTable(ClassForRehash.MAX_HASH_TABLE)\n",
    "for i in range(len(rand_re.table) + 2):\n",
    "    rand_re.add_el(ClassForRehash(random.randint(0, 9)))"
   ]
  },
  {
   "cell_type": "raw",
   "id": "5c062243-9873-47ef-a3c7-75b798ee9e77",
   "metadata": {},
   "source": [
    "МЕТОД ЦЕПОЧЕК"
   ]
  },
  {
   "cell_type": "code",
   "execution_count": 30,
   "id": "37fd096f-587b-4ef2-a7b2-2f02bd250ef5",
   "metadata": {},
   "outputs": [],
   "source": [
    "class ChainRehashTable:\n",
    "\n",
    "    def __init__(self, length):\n",
    "        self.table = [None] * length\n",
    "\n",
    "    def add_el(self, element):\n",
    "        \"\"\"\"\"\n",
    "        метод цепочек\n",
    "        \"\"\"\"\"\n",
    "        original_hash = element.hash\n",
    "        if self.table[original_hash] is None:\n",
    "            self.table[original_hash] = [element]\n",
    "            return\n",
    "        else:\n",
    "            length = len(self.table[original_hash])\n",
    "            self.table[original_hash].append(element)\n",
    "            return"
   ]
  },
  {
   "cell_type": "code",
   "execution_count": 31,
   "id": "6030c770-50f4-40f1-a9c1-aa39d923a048",
   "metadata": {},
   "outputs": [
    {
     "name": "stdout",
     "output_type": "stream",
     "text": [
      "[hash: 0] 0 0 \n",
      "[hash: 1] 3 3 3 \n",
      "[hash: 2] 6 \n",
      "[hash: 3] 1 9 1 \n",
      "[hash: 4] Empty\n",
      "[hash: 5] Empty\n",
      "[hash: 6] 2 \n",
      "[hash: 7] Empty\n"
     ]
    }
   ],
   "source": [
    "chain_re = ChainRehashTable(ClassForRehash.MAX_HASH_TABLE)\n",
    "for i in range(len(chain_re.table) + 2):\n",
    "    chain_re.add_el(ClassForRehash(random.randint(0, 9)))\n",
    "hash = 0\n",
    "for x in chain_re.table:  # вывод хеш таблицы для метода цепочек\n",
    "    print(\"[hash: %i]\" % hash, end=\" \")\n",
    "    if x is None:\n",
    "        print(\"Empty\")\n",
    "    else:\n",
    "        for y in x:\n",
    "            print(y.value1, end=\" \")\n",
    "        print(\"\")\n",
    "    hash += 1"
   ]
  },
  {
   "cell_type": "code",
   "execution_count": null,
   "id": "b821bd06-433d-4b2e-b905-bf528459fd04",
   "metadata": {},
   "outputs": [],
   "source": []
  }
 ],
 "metadata": {
  "kernelspec": {
   "display_name": "Python 3",
   "language": "python",
   "name": "python3"
  },
  "language_info": {
   "codemirror_mode": {
    "name": "ipython",
    "version": 3
   },
   "file_extension": ".py",
   "mimetype": "text/x-python",
   "name": "python",
   "nbconvert_exporter": "python",
   "pygments_lexer": "ipython3",
   "version": "3.9.2"
  }
 },
 "nbformat": 4,
 "nbformat_minor": 5
}
