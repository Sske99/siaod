{
 "cells": [
  {
   "cell_type": "raw",
   "id": "8e59ac9f-f499-4844-bcba-28b417689aee",
   "metadata": {},
   "source": [
    "Лабораторная работа 3. Методы поиска подстроки в строке. \n",
    "Задание 1 \n",
    "Реализовать методы поиска подстроки в строке. Добавить возможность \n",
    "ввода  строки  и  подстроки  с  клавиатуры.  Предусмотреть  возможность \n",
    "существования  пробела.  Реализовать  возможность  выбора  опции \n",
    "чувствительности или нечувствительности к регистру. Оценить время работы \n",
    "каждого алгоритма поиска и сравнить его со временем работы стандартной \n",
    "функции поиска, используемой в выбранном языке программирования. \n",
    "Алгоритмы: \n",
    "1.Кнута-Морриса-Пратта \n",
    "2.Упрощенный Бойера-Мура \n"
   ]
  },
  {
   "cell_type": "markdown",
   "id": "5de741a2-8b3d-4c15-944e-78e78d54c644",
   "metadata": {},
   "source": [
    "Кнута-Морриса-Пратта \n",
    "Идея КМП-поиска – при каждом несовпадении двух символов текста и образа образ сдвигается на все пройденное расстояние, так как меньшие сдвиги не могут привести к полному совпадению.\n",
    "Префикс-функция - это массив чисел, вычисляющийся, как наибольшая длина суффикса, совпадающего с её префиксом. Как пример, берем каждый возможный префикс строки и смотрим самое длинное совпадение начала с концом префикса."
   ]
  },
  {
   "cell_type": "code",
   "execution_count": null,
   "id": "f9d2b208-8fb4-4d2d-ba68-791285965022",
   "metadata": {},
   "outputs": [],
   "source": [
    "def pref(x):\n",
    "    d = {0:0}\n",
    "    for i in range(1,len(x)):\n",
    "        j = d[i-1]\n",
    "        while j > 0 and x[j] != x[i]:\n",
    "            j = d[j-1]\n",
    "        if x[j] == x[i]:\n",
    "            j += 1\n",
    "        d[i] = j\n",
    "    return d\n",
    "\n",
    "\n",
    "def kmpSearch(s, x):\n",
    "    d = pref(x)\n",
    "    i = j = 0\n",
    "    while i<len(s) and j<len(x):\n",
    "        if x[j] == s[i]:\n",
    "            i+=1\n",
    "            j+=1\n",
    "        elif j==0:\n",
    "            i+=1\n",
    "        else:\n",
    "            j = d[j-1]\n",
    "    else:\n",
    "        if j == len(x):\n",
    "            return \"Позиция %d.\" %((i - j) + 1)\n",
    "        return None"
   ]
  },
  {
   "cell_type": "code",
   "execution_count": 19,
   "id": "8c469377-b6e6-4001-aaf9-1b657ded5fdb",
   "metadata": {},
   "outputs": [
    {
     "name": "stdin",
     "output_type": "stream",
     "text": [
      "Введите строку:  Реализовать методы поиска подстроки в строке.\n",
      "Введите подстроку:  оды\n"
     ]
    },
    {
     "name": "stdout",
     "output_type": "stream",
     "text": [
      "\n",
      "Позиция 16.\n"
     ]
    }
   ],
   "source": [
    "s = input(\"Введите строку: \")\n",
    "x = input(\"Введите подстроку: \")\n",
    "\n",
    "\n",
    "print(\"\")\n",
    "print(kmpSearch(s, x))"
   ]
  },
  {
   "cell_type": "markdown",
   "id": "fed8019a-3b8d-4c1e-b29b-c6b6ed1b8c78",
   "metadata": {},
   "source": [
    "Упрощенный Бойера-Мура \n",
    "Основная идея алгоритма - начать поиск не с начала, а с конца подстроки. Наткнувшись на несовпадение, мы просто смещаем подстроку до самого правого вхождения данного символа."
   ]
  },
  {
   "cell_type": "code",
   "execution_count": 24,
   "id": "0104b062-cbfc-4349-9b37-f6dc4c66aa1c",
   "metadata": {},
   "outputs": [],
   "source": [
    " def forming_d(pattern):\n",
    "    d = [len(pattern) for i in range(1105)]\n",
    "    new_p = pattern[::-1]\n",
    " \n",
    "    for i in range(len(new_p)):\n",
    "        if d[ord(new_p[i])] != len(new_p):\n",
    "            continue\n",
    "        else:\n",
    "            d[ord(new_p[i])] = i\n",
    "    return d\n",
    " \n",
    " \n",
    " def bmSearch(s, x):\n",
    "\n",
    " \n",
    "    d = forming_d(x)\n",
    "    # i - начало прохода по string\n",
    "    # j - проход по x\n",
    "    # k - проход по string\n",
    "    len_p = i = j = k = len(x)\n",
    "    # число смещений\n",
    "    counter = 0\n",
    " \n",
    "    while i <= len(s) and j > 0:\n",
    "        if x[j - 1] == s[k - 1]:\n",
    "            j -= 1\n",
    "            k -= 1\n",
    "        else:\n",
    "            i += d[ord(s[k - 1])]\n",
    "            k = i\n",
    "            j = len_p\n",
    "            counter += 1\n",
    " \n",
    "    if j <= 0:\n",
    "        return \"Позиция %d.\" % (k + 1)\n",
    "    else:\n",
    "        return None"
   ]
  },
  {
   "cell_type": "code",
   "execution_count": 27,
   "id": "3bea15ea-564c-4f29-85de-9d98c4efda27",
   "metadata": {},
   "outputs": [
    {
     "name": "stdin",
     "output_type": "stream",
     "text": [
      "Введите строку:  Реализовать методы поиска подстроки в строке.\n",
      "Введите подстроку:  оды\n"
     ]
    },
    {
     "name": "stdout",
     "output_type": "stream",
     "text": [
      "\n",
      "Позиция 16.\n"
     ]
    }
   ],
   "source": [
    "string = input(\"Введите строку: \")\n",
    "pattern= input(\"Введите подстроку: \")\n",
    "\n",
    "print(\"\")\n",
    "print(bmSearch(string, pattern))"
   ]
  },
  {
   "cell_type": "code",
   "execution_count": null,
   "id": "8187e201-6ce3-4c93-95cc-401ef0e660f7",
   "metadata": {},
   "outputs": [],
   "source": []
  }
 ],
 "metadata": {
  "kernelspec": {
   "display_name": "Python 3",
   "language": "python",
   "name": "python3"
  },
  "language_info": {
   "codemirror_mode": {
    "name": "ipython",
    "version": 3
   },
   "file_extension": ".py",
   "mimetype": "text/x-python",
   "name": "python",
   "nbconvert_exporter": "python",
   "pygments_lexer": "ipython3",
   "version": "3.9.2"
  }
 },
 "nbformat": 4,
 "nbformat_minor": 5
}
